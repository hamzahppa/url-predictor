{
 "cells": [
  {
   "cell_type": "code",
   "execution_count": 1,
   "metadata": {},
   "outputs": [],
   "source": [
    "import re\n",
    "import pandas as pd"
   ]
  },
  {
   "cell_type": "code",
   "execution_count": 2,
   "metadata": {},
   "outputs": [],
   "source": [
    "# Fungsi untuk normalisasi URL\n",
    "def normalize_url(url):\n",
    "    # Ganti semua pola yang terdiri dari huruf dan angka menjadi {id}\n",
    "    url = re.sub(r'[A-Za-z]*\\d+', '{id}', url)\n",
    "    # Hapus huruf tambahan setelah {id} (misalnya, CZFY setelah {id})\n",
    "    url = re.sub(r'{id}[A-Za-z]+', '{id}', url)\n",
    "    # Ganti double slashes atau karakter lain yang tidak perlu\n",
    "    url = re.sub(r'//+', '/', url)\n",
    "    return url"
   ]
  },
  {
   "cell_type": "code",
   "execution_count": 3,
   "metadata": {},
   "outputs": [
    {
     "name": "stdout",
     "output_type": "stream",
     "text": [
      "Data dengan URL yang sudah dinormalisasi disimpan ke extracted_data_normalized.csv\n"
     ]
    }
   ],
   "source": [
    "# 1. Membaca file CSV\n",
    "input_file = \"extracted_data.csv\"  # Ubah path sesuai file Anda\n",
    "output_file = \"extracted_data_normalized.csv\"  # Output file\n",
    "\n",
    "# Membaca dataset\n",
    "df = pd.read_csv(input_file)\n",
    "\n",
    "# Memastikan kolom sesuai\n",
    "if not {'Time', 'IP', 'URL'}.issubset(df.columns):\n",
    "    raise ValueError(\"Kolom 'Time', 'IP', atau 'URL' tidak ditemukan dalam dataset.\")\n",
    "\n",
    "# Terapkan normalisasi URL\n",
    "df['Normalized_URL'] = df['URL'].apply(normalize_url)\n",
    "\n",
    "# Simpan data yang sudah dinormalisasi ke file baru\n",
    "df.to_csv(output_file, index=False)\n",
    "print(f\"Data dengan URL yang sudah dinormalisasi disimpan ke {output_file}\")"
   ]
  }
 ],
 "metadata": {
  "kernelspec": {
   "display_name": "3.11.6",
   "language": "python",
   "name": "python3"
  },
  "language_info": {
   "codemirror_mode": {
    "name": "ipython",
    "version": 3
   },
   "file_extension": ".py",
   "mimetype": "text/x-python",
   "name": "python",
   "nbconvert_exporter": "python",
   "pygments_lexer": "ipython3",
   "version": "3.11.6"
  }
 },
 "nbformat": 4,
 "nbformat_minor": 2
}
