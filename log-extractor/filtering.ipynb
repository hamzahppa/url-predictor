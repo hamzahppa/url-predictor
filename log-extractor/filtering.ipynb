{
 "cells": [
  {
   "cell_type": "code",
   "execution_count": 2,
   "metadata": {},
   "outputs": [
    {
     "name": "stdout",
     "output_type": "stream",
     "text": [
      "Data yang sudah difilter disimpan ke: ../log-extractor/extracted_data_normalized_filtered.csv\n"
     ]
    }
   ],
   "source": [
    "import pandas as pd\n",
    "\n",
    "# File input dan output\n",
    "input_file = \"../log-extractor/extracted_data_normalized.csv\"  # File hasil normalisasi sebelumnya\n",
    "output_file = \"../log-extractor/extracted_data_normalized_filtered.csv\"  # File hasil setelah filter\n",
    "\n",
    "# Membaca dataset yang sudah dinormalisasi\n",
    "df = pd.read_csv(input_file)\n",
    "\n",
    "# Memastikan kolom sesuai\n",
    "if not {'Normalized_URL'}.issubset(df.columns):\n",
    "    raise ValueError(\"Kolom 'Normalized_URL' tidak ditemukan dalam dataset.\")\n",
    "\n",
    "# Filter: Hapus URL dengan akhiran '/login' atau '/zonk'\n",
    "df_filtered = df[~df['Normalized_URL'].str.endswith(('/login', '/zonk'))]\n",
    "\n",
    "# Simpan hasil ke file baru\n",
    "df_filtered.to_csv(output_file, index=False)\n",
    "print(f\"Data yang sudah difilter disimpan ke: {output_file}\")"
   ]
  }
 ],
 "metadata": {
  "kernelspec": {
   "display_name": "3.11.6",
   "language": "python",
   "name": "python3"
  },
  "language_info": {
   "codemirror_mode": {
    "name": "ipython",
    "version": 3
   },
   "file_extension": ".py",
   "mimetype": "text/x-python",
   "name": "python",
   "nbconvert_exporter": "python",
   "pygments_lexer": "ipython3",
   "version": "3.11.6"
  }
 },
 "nbformat": 4,
 "nbformat_minor": 2
}
