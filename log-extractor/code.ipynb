{
 "cells": [
  {
   "cell_type": "code",
   "execution_count": 1,
   "metadata": {},
   "outputs": [],
   "source": [
    "# Langkah 1: Import libraries\n",
    "import re\n",
    "import csv\n",
    "from pathlib import Path"
   ]
  },
  {
   "cell_type": "code",
   "execution_count": 2,
   "metadata": {},
   "outputs": [],
   "source": [
    "# Langkah 2: Fungsi untuk ekstraksi TIME, IP dan URL\n",
    "def extract_ip_url_time(log_line):\n",
    "    # Pola regex untuk menangkap IP\n",
    "    ip_pattern = r'(\\d+\\.\\d+\\.\\d+\\.\\d+)'  \n",
    "    # Pola regex untuk menangkap URL setelah GET\n",
    "    url_pattern = r'\"GET ([^\"]+)'  \n",
    "    # Pola regex untuk menangkap waktu dalam format 05/Sep/2024:06:32:48 +0700\n",
    "    time_pattern = r'\\[(.*?)\\]'  \n",
    "    \n",
    "    # Cari pola IP, URL, dan waktu\n",
    "    ip_match = re.search(ip_pattern, log_line)\n",
    "    url_match = re.search(url_pattern, log_line)\n",
    "    time_match = re.search(time_pattern, log_line)\n",
    "    \n",
    "    # Jika ditemukan, ambil nilainya; jika tidak, berikan string kosong\n",
    "    ip = ip_match.group(1) if ip_match else ''\n",
    "    url = url_match.group(1) if url_match else ''\n",
    "    time = time_match.group(1) if time_match else ''\n",
    "    \n",
    "    # Hilangkan \"HTTP/2.0\" atau protokol HTTP lainnya dari URL jika ada\n",
    "    url = url.split(' ')[0]  # Memotong bagian setelah spasi (misalnya \"HTTP/2.0\")\n",
    "    \n",
    "    # Hilangkan parameter query dari URL jika ada\n",
    "    url = url.split('?')[0] if '?' in url else url\n",
    "    \n",
    "    return time, ip, url  # Mengembalikan waktu, IP, dan URL\n"
   ]
  },
  {
   "cell_type": "code",
   "execution_count": 3,
   "metadata": {},
   "outputs": [],
   "source": [
    "# Langkah 3: Fungsi untuk memproses satu file log\n",
    "def process_log_file(input_file):\n",
    "    extracted_data = []  # List untuk menyimpan data waktu, IP, dan URL\n",
    "    with open(input_file, 'r') as f:\n",
    "        log_lines = f.readlines()  # Membaca semua baris di file log\n",
    "    \n",
    "    # Iterasi tiap baris log untuk mengekstraksi data\n",
    "    for line in log_lines:\n",
    "        time, ip, url = extract_ip_url_time(line)\n",
    "        if ip and url:  # Jika IP dan URL valid, tambahkan ke list\n",
    "            extracted_data.append((time, ip, url))\n",
    "    \n",
    "    return extracted_data  # Mengembalikan data yang diekstraksi\n"
   ]
  },
  {
   "cell_type": "code",
   "execution_count": 4,
   "metadata": {},
   "outputs": [],
   "source": [
    "# Langkah 4: Fungsi untuk memproses semua file log dalam satu folder dan menyimpan hasil ke file CSV\n",
    "def process_all_log_files(logs_folder, output_file):\n",
    "    all_extracted_data = []  # List untuk menyimpan semua data waktu, IP, dan URL dari berbagai file log\n",
    "    log_files = list(logs_folder.glob('response_time-simrs*'))  # Cari file log sesuai pola\n",
    "    \n",
    "    # Iterasi untuk memproses tiap file log\n",
    "    for log_file in log_files:\n",
    "        print(f\"Processing file: {log_file}\")\n",
    "        extracted_data = process_log_file(log_file)  # Proses file log\n",
    "        all_extracted_data.extend(extracted_data)  # Tambahkan data ke list total\n",
    "    \n",
    "    # Tulis hasil ke file CSV\n",
    "    with open(output_file, 'w', newline='') as f:\n",
    "        writer = csv.writer(f)\n",
    "        writer.writerow(['Time', 'IP', 'URL'])  # Header kolom dengan tambahan waktu\n",
    "        writer.writerows(all_extracted_data)  # Menulis data yang diekstraksi"
   ]
  },
  {
   "cell_type": "code",
   "execution_count": 5,
   "metadata": {},
   "outputs": [
    {
     "name": "stdout",
     "output_type": "stream",
     "text": [
      "Processing file: ../Data/response_time-simrs.log.10\n",
      "Processing file: ../Data/response_time-simrs.log.11\n",
      "Processing file: ../Data/response_time-simrs.log.9\n",
      "Processing file: ../Data/response_time-simrs.log.7\n",
      "Processing file: ../Data/response_time-simrs.log.1\n",
      "Processing file: ../Data/response_time-simrs.log.6\n",
      "Processing file: ../Data/response_time-simrs.log.8\n",
      "Processing file: ../Data/response_time-simrs.log.13\n",
      "Processing file: ../Data/response_time-simrs.log.14\n",
      "Processing file: ../Data/response_time-simrs.log.12\n",
      "Processing file: ../Data/response_time-simrs.log\n",
      "Processing file: ../Data/response_time-simrs.log.3\n",
      "Processing file: ../Data/response_time-simrs.log.4\n",
      "Processing file: ../Data/response_time-simrs.log.5\n",
      "Processing file: ../Data/response_time-simrs.log.2\n",
      "Data extracted and saved to extracted_data.csv\n"
     ]
    }
   ],
   "source": [
    "# Langkah 5: Bagian eksekusi utama, hanya jika script dijalankan langsung\n",
    "if __name__ == '__main__':\n",
    "    logs_folder = Path('../Data')  # Folder 'Data'\n",
    "    output_file = 'extracted_data.csv'  # Nama file CSV keluaran\n",
    "\n",
    "    # Memproses semua file log dan menyimpan hasilnya ke file CSV\n",
    "    process_all_log_files(logs_folder, output_file)\n",
    "    print(f\"Data extracted and saved to {output_file}\")"
   ]
  }
 ],
 "metadata": {
  "kernelspec": {
   "display_name": "3.11.6",
   "language": "python",
   "name": "python3"
  },
  "language_info": {
   "codemirror_mode": {
    "name": "ipython",
    "version": 3
   },
   "file_extension": ".py",
   "mimetype": "text/x-python",
   "name": "python",
   "nbconvert_exporter": "python",
   "pygments_lexer": "ipython3",
   "version": "3.11.6"
  }
 },
 "nbformat": 4,
 "nbformat_minor": 2
}
