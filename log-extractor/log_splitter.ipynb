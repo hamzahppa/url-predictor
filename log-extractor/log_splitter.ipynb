{
 "cells": [
  {
   "cell_type": "code",
   "execution_count": 1,
   "metadata": {},
   "outputs": [],
   "source": [
    "import os\n",
    "import csv"
   ]
  },
  {
   "cell_type": "code",
   "execution_count": 2,
   "metadata": {},
   "outputs": [],
   "source": [
    "def split_csv_file(input_file, max_size_mb=100):\n",
    "    # Menghitung batas ukuran maksimal dalam bytes\n",
    "    max_size_bytes = max_size_mb * 1024 * 1024\n",
    "\n",
    "    # Buka file CSV yang akan dipecah\n",
    "    with open(input_file, 'r', newline='') as f:\n",
    "        reader = csv.reader(f)\n",
    "        header = next(reader)  # Membaca header\n",
    "\n",
    "        file_count = 1\n",
    "        output_file = f'{input_file.split(\".csv\")[0]}_part{file_count}.csv'\n",
    "\n",
    "        # Membuka file output pertama\n",
    "        output_f = open(output_file, 'w', newline='')\n",
    "        writer = csv.writer(output_f)\n",
    "        writer.writerow(header)  # Menulis header ke file kecil\n",
    "\n",
    "        # Menghitung ukuran file berdasarkan ukuran sebenarnya di disk\n",
    "        for row in reader:\n",
    "            writer.writerow(row)\n",
    "            output_f.flush()  # Memastikan data ditulis ke disk\n",
    "            if os.path.getsize(output_file) >= max_size_bytes:  # Periksa ukuran file di disk\n",
    "                output_f.close()  # Tutup file saat ukuran melebihi batas\n",
    "                file_count += 1\n",
    "                output_file = f'{input_file.split(\".csv\")[0]}_part{file_count}.csv'\n",
    "                output_f = open(output_file, 'w', newline='')  # Membuka file baru\n",
    "                writer = csv.writer(output_f)\n",
    "                writer.writerow(header)  # Tulis header ke file baru\n",
    "\n",
    "        output_f.close()  # Pastikan file terakhir ditutup"
   ]
  },
  {
   "cell_type": "code",
   "execution_count": 3,
   "metadata": {},
   "outputs": [
    {
     "name": "stdout",
     "output_type": "stream",
     "text": [
      "File CSV telah dipecah menjadi beberapa bagian.\n"
     ]
    }
   ],
   "source": [
    "if __name__ == '__main__':\n",
    "    output_file = 'extracted_data_normalized_filtered.csv'  # Nama file CSV keluaran\n",
    "    \n",
    "    # Memecah file hasil menjadi file kecil maksimal 100MB\n",
    "    split_csv_file(output_file, max_size_mb=100)\n",
    "    print(\"File CSV telah dipecah menjadi beberapa bagian.\")"
   ]
  }
 ],
 "metadata": {
  "kernelspec": {
   "display_name": "3.11.6",
   "language": "python",
   "name": "python3"
  },
  "language_info": {
   "codemirror_mode": {
    "name": "ipython",
    "version": 3
   },
   "file_extension": ".py",
   "mimetype": "text/x-python",
   "name": "python",
   "nbconvert_exporter": "python",
   "pygments_lexer": "ipython3",
   "version": "3.11.6"
  }
 },
 "nbformat": 4,
 "nbformat_minor": 2
}
