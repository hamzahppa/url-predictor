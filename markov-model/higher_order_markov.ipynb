{
 "cells": [
  {
   "cell_type": "code",
   "execution_count": 1,
   "metadata": {},
   "outputs": [],
   "source": [
    "import re\n",
    "import pandas as pd\n",
    "from collections import defaultdict"
   ]
  },
  {
   "cell_type": "code",
   "execution_count": 2,
   "metadata": {},
   "outputs": [],
   "source": [
    "# 1. Membaca file CSV yang sudah dinormalisasi\n",
    "file_path = \"../log-extractor/extracted_data_normalized.csv\"  # File hasil normalisasi\n",
    "df = pd.read_csv(file_path)\n",
    "\n",
    "# Memastikan kolom sesuai\n",
    "if not {'Time', 'IP', 'Normalized_URL'}.issubset(df.columns):\n",
    "    raise ValueError(\"Kolom 'Time', 'IP', atau 'Normalized_URL' tidak ditemukan dalam dataset.\")"
   ]
  },
  {
   "cell_type": "code",
   "execution_count": 3,
   "metadata": {},
   "outputs": [],
   "source": [
    "# 2. Konversi waktu untuk sorting dan pembagian\n",
    "df['Time'] = pd.to_datetime(df['Time'], format='%d/%b/%Y:%H:%M:%S %z')\n",
    "\n",
    "# Urutkan berdasarkan waktu\n",
    "df = df.sort_values(by='Time')"
   ]
  },
  {
   "cell_type": "code",
   "execution_count": 4,
   "metadata": {},
   "outputs": [],
   "source": [
    "# 3. Membagi data menjadi training dan testing (80:20 split)\n",
    "split_index = int(len(df) * 0.8)\n",
    "training_data = df.iloc[:split_index].copy()  # Salinan eksplisit\n",
    "testing_data = df.iloc[split_index:].copy()   # Salinan eksplisit"
   ]
  },
  {
   "cell_type": "code",
   "execution_count": 5,
   "metadata": {},
   "outputs": [],
   "source": [
    "# 4. Membangun Higher-Order Markov Model menggunakan data training\n",
    "# Higher-order state dengan 2 URL terakhir\n",
    "transitions = defaultdict(lambda: defaultdict(int))\n",
    "\n",
    "# Mengelompokkan berdasarkan IP untuk mempertahankan sesi user\n",
    "grouped = training_data.groupby('IP')\n",
    "\n",
    "for ip, group in grouped:\n",
    "    states = group['Normalized_URL'].tolist()\n",
    "    for i in range(len(states) - 2):  # Menggunakan 2 URL terakhir sebagai state\n",
    "        state = (states[i], states[i + 1])  # Higher-order state\n",
    "        next_state = states[i + 2]\n",
    "        transitions[state][next_state] += 1\n",
    "\n",
    "# Mengubah ke probabilitas transisi\n",
    "markov_model_higher = {}\n",
    "for state, next_states in transitions.items():\n",
    "    total_transitions = sum(next_states.values())\n",
    "    markov_model_higher[state] = {url: count / total_transitions for url, count in next_states.items()}"
   ]
  },
  {
   "cell_type": "code",
   "execution_count": 6,
   "metadata": {},
   "outputs": [],
   "source": [
    "# 5. Fungsi untuk memprediksi URL berikutnya\n",
    "def predict_next_url_higher_order(current_state, model, top_n=1):\n",
    "    if current_state not in model:\n",
    "        return None  # Tidak ada prediksi yang tersedia\n",
    "    \n",
    "    # Urutkan berdasarkan probabilitas\n",
    "    sorted_predictions = sorted(model[current_state].items(), key=lambda x: x[1], reverse=True)\n",
    "    return [url for url, prob in sorted_predictions[:top_n]]"
   ]
  },
  {
   "cell_type": "code",
   "execution_count": 7,
   "metadata": {},
   "outputs": [
    {
     "name": "stdout",
     "output_type": "stream",
     "text": [
      "Akurasi prediksi URL berikutnya (Higher-Order Markov Model): 39.67%\n"
     ]
    }
   ],
   "source": [
    "# 6. Evaluasi pada data testing\n",
    "correct_predictions = 0\n",
    "total_predictions = 0\n",
    "\n",
    "grouped_testing = testing_data.groupby('IP')\n",
    "\n",
    "for ip, group in grouped_testing:\n",
    "    states = group['Normalized_URL'].tolist()\n",
    "    for i in range(len(states) - 2):  # Evaluasi dengan 2 URL terakhir sebagai state\n",
    "        current_state = (states[i], states[i + 1])\n",
    "        actual_next_url = states[i + 2]\n",
    "        \n",
    "        # Prediksi URL berikutnya\n",
    "        predicted_urls = predict_next_url_higher_order(current_state, markov_model_higher, top_n=1)\n",
    "        \n",
    "        if predicted_urls and actual_next_url in predicted_urls:\n",
    "            correct_predictions += 1\n",
    "        total_predictions += 1\n",
    "\n",
    "# Hitung akurasi\n",
    "accuracy = correct_predictions / total_predictions if total_predictions > 0 else 0\n",
    "print(f\"Akurasi prediksi URL berikutnya (Higher-Order Markov Model): {accuracy:.2%}\")"
   ]
  },
  {
   "cell_type": "code",
   "execution_count": 8,
   "metadata": {},
   "outputs": [
    {
     "name": "stdout",
     "output_type": "stream",
     "text": [
      "Top-3 Accuracy (Higher-Order Markov Model): 61.53%\n"
     ]
    }
   ],
   "source": [
    "# Evaluasi Top-k Accuracy\n",
    "def evaluate_top_k_accuracy_higher_order(testing_data, model, top_k=3):\n",
    "    correct_predictions = 0\n",
    "    total_predictions = 0\n",
    "\n",
    "    grouped_testing = testing_data.groupby('IP')\n",
    "\n",
    "    for ip, group in grouped_testing:\n",
    "        states = group['Normalized_URL'].tolist()\n",
    "        for i in range(len(states) - 2):  # Evaluasi dengan 2 URL terakhir sebagai state\n",
    "            current_state = (states[i], states[i + 1])\n",
    "            actual_next_url = states[i + 2]\n",
    "            predicted_urls = predict_next_url_higher_order(current_state, model, top_n=top_k)\n",
    "            if predicted_urls and actual_next_url in predicted_urls:\n",
    "                correct_predictions += 1\n",
    "            total_predictions += 1\n",
    "\n",
    "    return correct_predictions / total_predictions if total_predictions > 0 else 0\n",
    "\n",
    "# Evaluasi Top-3 Accuracy\n",
    "top_k_accuracy = evaluate_top_k_accuracy_higher_order(testing_data, markov_model_higher, top_k=3)\n",
    "print(f\"Top-3 Accuracy (Higher-Order Markov Model): {top_k_accuracy:.2%}\")"
   ]
  }
 ],
 "metadata": {
  "kernelspec": {
   "display_name": "3.11.6",
   "language": "python",
   "name": "python3"
  },
  "language_info": {
   "codemirror_mode": {
    "name": "ipython",
    "version": 3
   },
   "file_extension": ".py",
   "mimetype": "text/x-python",
   "name": "python",
   "nbconvert_exporter": "python",
   "pygments_lexer": "ipython3",
   "version": "3.11.6"
  }
 },
 "nbformat": 4,
 "nbformat_minor": 2
}
